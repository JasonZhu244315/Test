{
 "cells": [
  {
   "cell_type": "markdown",
   "id": "f46d0a1e-bc66-4a4e-ba11-a6989c9ae26c",
   "metadata": {
    "tags": []
   },
   "source": [
    "<div class=\"alert alert-block alert-info\">\n",
    "<h3> <b> Part 2. Data Import <b></h3>\n",
    "<div>"
   ]
  },
  {
   "cell_type": "markdown",
   "id": "af3ec2e3-9afd-4ae5-adc9-39bf68a1474e",
   "metadata": {},
   "source": [
    "❓ **Your challenge**: \n",
    "\n",
    "- Once your data is successfully extracted from Github and unzipped in the `Raw Data` folder, it's time to import the data into your Jupyter notebook environment for data inspection\n",
    "- As we have multiple .csv files, a good practice is to store all of them in a `dict`, a data format containing `key: value` pairs. This kind of data format can help us easily access to the data we want by specifying key names\n",
    "- Our goal is to build a `get_data.py` which contains a function called `get_data` that can help us retrieve data easily\n",
    "\n",
    "💡 Suggested methodology:\n",
    "- Use the notebook below to write and test your code step-by-step first\n",
    "- Then copy the code into `get_data.py` once you are certain of your code logic\n",
    "- Lastly, import the `get_data.py` module to confirm its feasibility"
   ]
  },
  {
   "cell_type": "code",
   "execution_count": 1,
   "id": "3405cfd1-2041-4ddc-8687-897cf800babc",
   "metadata": {
    "tags": []
   },
   "outputs": [
    {
     "data": {
      "application/javascript": [
       "\n",
       "        if (window._pyforest_update_imports_cell) { window._pyforest_update_imports_cell('import pandas as pd'); }\n",
       "    "
      ],
      "text/plain": [
       "<IPython.core.display.Javascript object>"
      ]
     },
     "metadata": {},
     "output_type": "display_data"
    },
    {
     "data": {
      "application/javascript": [
       "\n",
       "        if (window._pyforest_update_imports_cell) { window._pyforest_update_imports_cell('import pandas as pd'); }\n",
       "    "
      ],
      "text/plain": [
       "<IPython.core.display.Javascript object>"
      ]
     },
     "metadata": {},
     "output_type": "display_data"
    },
    {
     "data": {
      "application/javascript": [
       "\n",
       "        if (window._pyforest_update_imports_cell) { window._pyforest_update_imports_cell('import pandas as pd'); }\n",
       "    "
      ],
      "text/plain": [
       "<IPython.core.display.Javascript object>"
      ]
     },
     "metadata": {},
     "output_type": "display_data"
    }
   ],
   "source": [
    "# Add any packages you need here\n",
    "import pyforest\n",
    "import copy\n",
    "import string\n",
    "import missingno as msno\n",
    "import requests\n",
    "import zipfile\n",
    "import os\n",
    "\n",
    "import warnings\n",
    "warnings.filterwarnings(\"ignore\")\n",
    "\n",
    "# pd.set_option(\"display.max_rows\", None)\n",
    "pd.set_option(\"display.max_columns\", None)\n",
    "pd.set_option(\"display.max_colwidth\", None)\n",
    "pd.set_option(\"display.float_format\", lambda x: \"%.2f\" %x) # suppress scientific notation\n",
    "\n",
    "# This can help to autoreload the packages you create\n",
    "%load_ext autoreload\n",
    "%autoreload 2"
   ]
  },
  {
   "cell_type": "markdown",
   "id": "45374676-200c-4a22-880b-d9eeeec281e3",
   "metadata": {},
   "source": [
    "<div class=\"alert alert-block alert-success\">\n",
    "<h4> <b> 1. Code get_data.py <b></h4>\n",
    "<div>"
   ]
  },
  {
   "cell_type": "markdown",
   "id": "6f49e87c-7cb5-4e18-b200-05faf611adec",
   "metadata": {},
   "source": [
    "#### a) `get_data` Function"
   ]
  },
  {
   "cell_type": "markdown",
   "id": "892c7a77-e434-4b83-a6c3-386fb02385e5",
   "metadata": {
    "tags": []
   },
   "source": [
    "👉 Our goal is to create a function called `get_data` that creates a data dict that contains 3 `key: value` pairs. The keys are the names of the data: Airport_Codes, Flights and Tickets, while the values are the DataFrames, you may follow the steps below:\n",
    "\n",
    "> 1. Set your default working directory to the `Raw Data` folder\n",
    "2. Check if the `Raw Data` folder is empty, if it's empty, print a warning message\n",
    "3. Store your data as `key: value` pairs in a data dict called \"data\"\n",
    "\n",
    "<details>\n",
    "    <summary>💡Hint for functions or operations you may need</summary>\n",
    "\n",
    "- os.path.join() \n",
    "- os.listdir()\n",
    "- list comprehension\n",
    "- zip\n",
    "\n",
    "</details>"
   ]
  },
  {
   "cell_type": "code",
   "execution_count": 6,
   "id": "6234f261-e2ef-4545-9fef-70dd609bc659",
   "metadata": {},
   "outputs": [],
   "source": [
    "# Create get_data function - write your code here\n",
    "def get_data():\n",
    "    \"\"\"\n",
    "    Return a Python dict containing required csv files\n",
    "    Its values should be pandas.DataFrames loaded from csv files\n",
    "    \"\"\"\n",
    "    # root_dir = os.path.dirname(os.path.dirname(__file__))\n",
    "    # csv_path = os.path.join(root_dir, \"data\")\n",
    "    \n",
    "    csv_path = os.path.join(os.getcwd(), \"Raw Data\")\n",
    "\n",
    "    # Check if data folder is empty\n",
    "    assert len(os.listdir(csv_path)) > 0, \"No file in data folder, please check!\"\n",
    "\n",
    "    # Generate file name list\n",
    "    file_names = [f for f in os.listdir(csv_path) if f.endswith(\".csv\")]\n",
    "\n",
    "    key_names = [\n",
    "        key_name.replace(\".csv\", \"\")\n",
    "        for key_name in file_names\n",
    "    ]\n",
    "\n",
    "    # Create the dictionary\n",
    "    data = {}\n",
    "    for k, f in zip(key_names, file_names):\n",
    "        data[k] = pd.read_csv(os.path.join(csv_path, f))\n",
    "\n",
    "    print(\"Data dictionary generated\")\n",
    "    return data"
   ]
  },
  {
   "cell_type": "markdown",
   "id": "177ab3fa-ee19-4aa4-b3ad-d4a0955e5e7e",
   "metadata": {},
   "source": [
    "#### b) Test Your `get_data` Function"
   ]
  },
  {
   "cell_type": "code",
   "execution_count": 7,
   "id": "5ccb7d98-1461-4e30-956a-313d0b06e19a",
   "metadata": {
    "collapsed": true,
    "jupyter": {
     "outputs_hidden": true
    },
    "tags": []
   },
   "outputs": [
    {
     "data": {
      "application/javascript": [
       "\n",
       "        if (window._pyforest_update_imports_cell) { window._pyforest_update_imports_cell('import os'); }\n",
       "    "
      ],
      "text/plain": [
       "<IPython.core.display.Javascript object>"
      ]
     },
     "metadata": {},
     "output_type": "display_data"
    },
    {
     "data": {
      "application/javascript": [
       "\n",
       "        if (window._pyforest_update_imports_cell) { window._pyforest_update_imports_cell('import os'); }\n",
       "    "
      ],
      "text/plain": [
       "<IPython.core.display.Javascript object>"
      ]
     },
     "metadata": {},
     "output_type": "display_data"
    },
    {
     "data": {
      "application/javascript": [
       "\n",
       "        if (window._pyforest_update_imports_cell) { window._pyforest_update_imports_cell('import os'); }\n",
       "    "
      ],
      "text/plain": [
       "<IPython.core.display.Javascript object>"
      ]
     },
     "metadata": {},
     "output_type": "display_data"
    },
    {
     "data": {
      "application/javascript": [
       "\n",
       "        if (window._pyforest_update_imports_cell) { window._pyforest_update_imports_cell('import os'); }\n",
       "    "
      ],
      "text/plain": [
       "<IPython.core.display.Javascript object>"
      ]
     },
     "metadata": {},
     "output_type": "display_data"
    },
    {
     "data": {
      "application/javascript": [
       "\n",
       "        if (window._pyforest_update_imports_cell) { window._pyforest_update_imports_cell('import pandas as pd\\nimport os'); }\n",
       "    "
      ],
      "text/plain": [
       "<IPython.core.display.Javascript object>"
      ]
     },
     "metadata": {},
     "output_type": "display_data"
    },
    {
     "data": {
      "application/javascript": [
       "\n",
       "        if (window._pyforest_update_imports_cell) { window._pyforest_update_imports_cell('import pandas as pd\\nimport os'); }\n",
       "    "
      ],
      "text/plain": [
       "<IPython.core.display.Javascript object>"
      ]
     },
     "metadata": {},
     "output_type": "display_data"
    },
    {
     "data": {
      "application/javascript": [
       "\n",
       "        if (window._pyforest_update_imports_cell) { window._pyforest_update_imports_cell('import pandas as pd\\nimport os'); }\n",
       "    "
      ],
      "text/plain": [
       "<IPython.core.display.Javascript object>"
      ]
     },
     "metadata": {},
     "output_type": "display_data"
    },
    {
     "data": {
      "application/javascript": [
       "\n",
       "        if (window._pyforest_update_imports_cell) { window._pyforest_update_imports_cell('import pandas as pd\\nimport os'); }\n",
       "    "
      ],
      "text/plain": [
       "<IPython.core.display.Javascript object>"
      ]
     },
     "metadata": {},
     "output_type": "display_data"
    },
    {
     "name": "stderr",
     "output_type": "stream",
     "text": [
      "C:\\Users\\16400\\AppData\\Local\\Temp\\ipykernel_11324\\3872948584.py:26: DtypeWarning: Columns (3,13,14) have mixed types. Specify dtype option on import or set low_memory=False.\n",
      "  data[k] = pd.read_csv(os.path.join(csv_path, f))\n"
     ]
    },
    {
     "data": {
      "application/javascript": [
       "\n",
       "        if (window._pyforest_update_imports_cell) { window._pyforest_update_imports_cell('import pandas as pd\\nimport os'); }\n",
       "    "
      ],
      "text/plain": [
       "<IPython.core.display.Javascript object>"
      ]
     },
     "metadata": {},
     "output_type": "display_data"
    },
    {
     "data": {
      "application/javascript": [
       "\n",
       "        if (window._pyforest_update_imports_cell) { window._pyforest_update_imports_cell('import pandas as pd\\nimport os'); }\n",
       "    "
      ],
      "text/plain": [
       "<IPython.core.display.Javascript object>"
      ]
     },
     "metadata": {},
     "output_type": "display_data"
    },
    {
     "name": "stdout",
     "output_type": "stream",
     "text": [
      "Data dictionary generated\n"
     ]
    }
   ],
   "source": [
    "# Test get_data function with the following code here\n",
    "data = get_data()\n",
    "data.keys()"
   ]
  },
  {
   "cell_type": "code",
   "execution_count": 14,
   "id": "57ba3194-3515-486c-9e2a-5d802ec90793",
   "metadata": {},
   "outputs": [
    {
     "name": "stdout",
     "output_type": "stream",
     "text": [
      "Airport_Codes shape:  (55369, 8)\n",
      "Flights shape:  (1915886, 16)\n",
      "Tickets shape:  (1167285, 12)\n"
     ]
    }
   ],
   "source": [
    "# Get datasets\n",
    "airport_codes = data.get(\"Airport_Codes\")\n",
    "flights = data.get(\"Flights\")\n",
    "tickets = data.get(\"Tickets\")\n",
    "\n",
    "print(\"Airport_Codes shape: \", airport_codes.shape)\n",
    "print(\"Flights shape: \", flights.shape)\n",
    "print(\"Tickets shape: \", tickets.shape)"
   ]
  },
  {
   "cell_type": "markdown",
   "id": "5d95520d-26f4-4f46-bfb6-7774326810e0",
   "metadata": {
    "tags": []
   },
   "source": [
    "<div class=\"alert alert-block alert-success\">\n",
    "<h4> <b>3. Build & Test get_data.py <b></h4>\n",
    "<div>"
   ]
  },
  {
   "cell_type": "markdown",
   "id": "8b5fbbcc-ad3a-4878-952b-4eeb5d8e5462",
   "metadata": {},
   "source": [
    "👉 Convert your jupyter notebook code into a .py file for later usage, test the .py file below"
   ]
  },
  {
   "cell_type": "code",
   "execution_count": 3,
   "id": "0e6ff468-f263-47fb-a699-6fe1b3da119c",
   "metadata": {},
   "outputs": [],
   "source": [
    "# Test get_data.py below\n",
    "from Airport.get_data import GetData\n",
    "\n",
    "data = GetData().get_data()\n",
    "data.keys()"
   ]
  }
 ],
 "metadata": {
  "kernelspec": {
   "display_name": "Python 3 (ipykernel)",
   "language": "python",
   "name": "python3"
  },
  "language_info": {
   "codemirror_mode": {
    "name": "ipython",
    "version": 3
   },
   "file_extension": ".py",
   "mimetype": "text/x-python",
   "name": "python",
   "nbconvert_exporter": "python",
   "pygments_lexer": "ipython3",
   "version": "3.9.13"
  }
 },
 "nbformat": 4,
 "nbformat_minor": 5
}
