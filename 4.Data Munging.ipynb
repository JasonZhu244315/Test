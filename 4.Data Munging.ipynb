{
 "cells": [
  {
   "cell_type": "markdown",
   "id": "f46d0a1e-bc66-4a4e-ba11-a6989c9ae26c",
   "metadata": {
    "tags": []
   },
   "source": [
    "<div class=\"alert alert-block alert-info\">\n",
    "<h3> <b> Part 4. Data Munging <b></h3>\n",
    "<div>"
   ]
  },
  {
   "cell_type": "markdown",
   "id": "af3ec2e3-9afd-4ae5-adc9-39bf68a1474e",
   "metadata": {},
   "source": [
    "❓ **Your challenge**: \n",
    "\n",
    "- Use your best judgement to determing the join conditions for the data sets you cleand already: `flights_cleaned`, `tickets_cleaned`, `airport_codes_cleaned`\n",
    "- Read the case carefully, you may need to figure out how to calculate certain KPIs in a reasonable way\n",
    "\n",
    "💡 Suggested methodology:\n",
    "- Use the notebook below to write and test your code step-by-step first\n",
    "- Create any functions and put them in a .py file to join data if necessary "
   ]
  },
  {
   "cell_type": "code",
   "execution_count": 1,
   "id": "3405cfd1-2041-4ddc-8687-897cf800babc",
   "metadata": {
    "tags": []
   },
   "outputs": [
    {
     "data": {
      "application/javascript": [
       "\n",
       "        if (window._pyforest_update_imports_cell) { window._pyforest_update_imports_cell('import pandas as pd'); }\n",
       "    "
      ],
      "text/plain": [
       "<IPython.core.display.Javascript object>"
      ]
     },
     "metadata": {},
     "output_type": "display_data"
    },
    {
     "data": {
      "application/javascript": [
       "\n",
       "        if (window._pyforest_update_imports_cell) { window._pyforest_update_imports_cell('import pandas as pd'); }\n",
       "    "
      ],
      "text/plain": [
       "<IPython.core.display.Javascript object>"
      ]
     },
     "metadata": {},
     "output_type": "display_data"
    },
    {
     "data": {
      "application/javascript": [
       "\n",
       "        if (window._pyforest_update_imports_cell) { window._pyforest_update_imports_cell('import pandas as pd'); }\n",
       "    "
      ],
      "text/plain": [
       "<IPython.core.display.Javascript object>"
      ]
     },
     "metadata": {},
     "output_type": "display_data"
    },
    {
     "data": {
      "application/javascript": [
       "\n",
       "        if (window._pyforest_update_imports_cell) { window._pyforest_update_imports_cell('import pandas as pd'); }\n",
       "    "
      ],
      "text/plain": [
       "<IPython.core.display.Javascript object>"
      ]
     },
     "metadata": {},
     "output_type": "display_data"
    }
   ],
   "source": [
    "# Add any packages you need here\n",
    "import pyforest\n",
    "import copy\n",
    "import string\n",
    "import missingno as msno\n",
    "import requests\n",
    "import zipfile\n",
    "import os\n",
    "\n",
    "from Airport.get_data import GetData\n",
    "from Airport import check_data, fix_data\n",
    "\n",
    "import warnings\n",
    "warnings.filterwarnings(\"ignore\")\n",
    "\n",
    "pd.set_option(\"display.max_rows\", None)\n",
    "pd.set_option(\"display.max_columns\", None)\n",
    "pd.set_option(\"display.max_colwidth\", None)\n",
    "pd.set_option(\"display.float_format\", lambda x: \"%.2f\" %x) # suppress scientific notation\n",
    "\n",
    "# This can help to autoreload the packages you create\n",
    "%load_ext autoreload\n",
    "%autoreload 2"
   ]
  },
  {
   "cell_type": "markdown",
   "id": "45374676-200c-4a22-880b-d9eeeec281e3",
   "metadata": {},
   "source": [
    "<div class=\"alert alert-block alert-success\">\n",
    "<h4> <b> 1. Import Data <b></h4>\n",
    "<div>"
   ]
  },
  {
   "cell_type": "markdown",
   "id": "892c7a77-e434-4b83-a6c3-386fb02385e5",
   "metadata": {
    "tags": []
   },
   "source": [
    "👉 Import three datasets- `flights_cleaned`, `tickets_cleaned`, `airport_codes_cleaned` we cleaned in the previous section for later usage, you can discard attributes that you identified unnecessary for further analysis"
   ]
  },
  {
   "cell_type": "code",
   "execution_count": 3,
   "id": "6234f261-e2ef-4545-9fef-70dd609bc659",
   "metadata": {
    "tags": []
   },
   "outputs": [
    {
     "data": {
      "application/javascript": [
       "\n",
       "        if (window._pyforest_update_imports_cell) { window._pyforest_update_imports_cell('import pandas as pd'); }\n",
       "    "
      ],
      "text/plain": [
       "<IPython.core.display.Javascript object>"
      ]
     },
     "metadata": {},
     "output_type": "display_data"
    },
    {
     "data": {
      "application/javascript": [
       "\n",
       "        if (window._pyforest_update_imports_cell) { window._pyforest_update_imports_cell('import pandas as pd'); }\n",
       "    "
      ],
      "text/plain": [
       "<IPython.core.display.Javascript object>"
      ]
     },
     "metadata": {},
     "output_type": "display_data"
    },
    {
     "data": {
      "application/javascript": [
       "\n",
       "        if (window._pyforest_update_imports_cell) { window._pyforest_update_imports_cell('import pandas as pd'); }\n",
       "    "
      ],
      "text/plain": [
       "<IPython.core.display.Javascript object>"
      ]
     },
     "metadata": {},
     "output_type": "display_data"
    }
   ],
   "source": [
    "# Import the datasets - write your code here\n",
    "flights = pd.read_csv(os.path.join(\"Raw Data\", \"flights_cleaned.csv\"))\n",
    "tickets = pd.read_csv(os.path.join(\"Raw Data\", \"tickets_cleaned.csv\"))\n",
    "airport_codes = pd.read_csv(os.path.join(\"Raw Data\", \"airport_codes_cleaned.csv\"))"
   ]
  },
  {
   "cell_type": "code",
   "execution_count": 5,
   "id": "cc252498-b8fa-486a-85d6-1234d5cfce67",
   "metadata": {},
   "outputs": [],
   "source": [
    "airport_codes = airport_codes[[\"IATA_CODE\", \"TYPE\"]].drop_duplicates()"
   ]
  },
  {
   "cell_type": "markdown",
   "id": "52c61ea9-b125-487d-92c4-3be3e6b7fe84",
   "metadata": {
    "tags": []
   },
   "source": [
    "<div class=\"alert alert-block alert-success\">\n",
    "<h4> <b> 2.Data Munging <b></h4>\n",
    "<div>"
   ]
  },
  {
   "cell_type": "markdown",
   "id": "7c5e6956-00ed-4865-8977-5798376aa837",
   "metadata": {
    "tags": []
   },
   "source": [
    "#### a) Flights"
   ]
  },
  {
   "cell_type": "markdown",
   "id": "6b4553f5-2fa1-4688-95de-e633e3bcfd4c",
   "metadata": {
    "tags": []
   },
   "source": [
    "👉 Follow the instructions below to enrich your `flights` data by generating new features:"
   ]
  },
  {
   "cell_type": "markdown",
   "id": "e1abe741-5763-405e-a4a4-eee149fceb6f",
   "metadata": {},
   "source": [
    "> 1. Add a new feature `ROUND_TRIP_ROUTE` - An example of a round\n",
    "trip route is the combination of JFK to ORD and ORD to JFK. The opposite order of the\n",
    "route, ORD to JFK and JFK to ORD, would be considered the same round trip"
   ]
  },
  {
   "cell_type": "code",
   "execution_count": 6,
   "id": "b3157263",
   "metadata": {},
   "outputs": [],
   "source": [
    "flights['ROUND_TRIP_ROUTE'] = flights.apply(lambda x: '-'.join(set([x['ORIGIN'], x['DESTINATION']])), axis = 1)"
   ]
  },
  {
   "cell_type": "code",
   "execution_count": 189,
   "id": "5796b3ba-156f-4fb3-9604-ce86172ddf47",
   "metadata": {},
   "outputs": [
    {
     "data": {
      "application/javascript": [
       "\n",
       "        if (window._pyforest_update_imports_cell) { window._pyforest_update_imports_cell('import numpy as np\\nimport pandas as pd'); }\n",
       "    "
      ],
      "text/plain": [
       "<IPython.core.display.Javascript object>"
      ]
     },
     "metadata": {},
     "output_type": "display_data"
    }
   ],
   "source": [
    "flights[\"ROUND_TRIP_ROUTE\"] = \\\n",
    "            np.where(flights['ORIGIN'] < flights['DESTINATION'], \\\n",
    "                     flights['ORIGIN'] + '-' + flights['DESTINATION'], \\\n",
    "                     flights['DESTINATION'] + '-' + flights['ORIGIN'])"
   ]
  },
  {
   "cell_type": "markdown",
   "id": "0c4b9810-1ac7-4cc2-99ed-df086ef5379b",
   "metadata": {},
   "source": [
    "> 2. Add a new feature `COST_BASE`, which comprises of cost of:\n",
    "-  Fuel, Oil, Maintenance, Crew 8 USD per mile total\n",
    "- Depreciation, Insurance, Other 1.18 USD per mile total"
   ]
  },
  {
   "cell_type": "code",
   "execution_count": 7,
   "id": "526ba7ab-f044-4078-8adc-8c2561f730e0",
   "metadata": {},
   "outputs": [],
   "source": [
    "# Fuel, Oil, Maintenance, Crew + Depreciation, Insurance, Other Costs\n",
    "flights[\"COST_BASE\"] = flights[\"DISTANCE\"] * (8 + 1.18)"
   ]
  },
  {
   "cell_type": "markdown",
   "id": "351aa531-5401-4197-9d79-2cfc6c772250",
   "metadata": {},
   "source": [
    "> 3. Add a new feature `COST_AIRPORT_OP`, which stands for Airport operational costs for the right to use the airports and related services are fixed at 5,000 USD for medium airports and $10,000 for large airports. There is one charge for each airport where a flight lands. Thus, a round trip flight has a total of two airport charges"
   ]
  },
  {
   "cell_type": "code",
   "execution_count": 8,
   "id": "c842d3ed-a509-4b42-814a-a2b14efa9cb9",
   "metadata": {},
   "outputs": [],
   "source": [
    "flights = flights.\\\n",
    "            merge(airport_codes.add_prefix(\"ORIGIN_\"), \\\n",
    "                  left_on = \"ORIGIN\", right_on = \"ORIGIN_IATA_CODE\").\\\n",
    "            merge(airport_codes.add_prefix(\"DEST_\"), \\\n",
    "                  left_on = \"DESTINATION\", right_on = \"DEST_IATA_CODE\")"
   ]
  },
  {
   "cell_type": "code",
   "execution_count": 9,
   "id": "3d478f66-9f57-4164-9640-7db57bf3a402",
   "metadata": {},
   "outputs": [
    {
     "data": {
      "application/javascript": [
       "\n",
       "        if (window._pyforest_update_imports_cell) { window._pyforest_update_imports_cell('import numpy as np\\nimport pandas as pd'); }\n",
       "    "
      ],
      "text/plain": [
       "<IPython.core.display.Javascript object>"
      ]
     },
     "metadata": {},
     "output_type": "display_data"
    },
    {
     "data": {
      "application/javascript": [
       "\n",
       "        if (window._pyforest_update_imports_cell) { window._pyforest_update_imports_cell('import numpy as np\\nimport pandas as pd'); }\n",
       "    "
      ],
      "text/plain": [
       "<IPython.core.display.Javascript object>"
      ]
     },
     "metadata": {},
     "output_type": "display_data"
    }
   ],
   "source": [
    "# Airport operational costs\n",
    "flights[\"COST_AIRPORT_OP\"] = \\\n",
    "            np.where(flights[\"ORIGIN_TYPE\"] == \"large_airport\", 10000, 5000) + \\\n",
    "            np.where(flights[\"DEST_TYPE\"] == \"large_airport\", 10000, 5000)\n",
    "\n",
    "flights[\"COST_AIRPORT_OP\"] = flights[\"COST_AIRPORT_OP\"]/2"
   ]
  },
  {
   "cell_type": "markdown",
   "id": "3a27fffc-563a-45f5-948b-344fb01ca13c",
   "metadata": {},
   "source": [
    "> 4. Add a new feature `COST_DELAY`, Delays that are 15 minutes or less are free, however each additional minute of\n",
    "delay costs the airline $75 in added operational costs. This is charged separately\n",
    "for both arrival and departure delays\n",
    "\n",
    "<details>\n",
    "    <summary>💡Hint </summary>\n",
    "\n",
    "You may need to use information from `airport_codes` dataset\n",
    "</details>"
   ]
  },
  {
   "cell_type": "code",
   "execution_count": 10,
   "id": "af53e94c-e236-429e-ab9b-c00d43b9cd26",
   "metadata": {},
   "outputs": [
    {
     "data": {
      "application/javascript": [
       "\n",
       "        if (window._pyforest_update_imports_cell) { window._pyforest_update_imports_cell('import numpy as np\\nimport pandas as pd'); }\n",
       "    "
      ],
      "text/plain": [
       "<IPython.core.display.Javascript object>"
      ]
     },
     "metadata": {},
     "output_type": "display_data"
    },
    {
     "data": {
      "application/javascript": [
       "\n",
       "        if (window._pyforest_update_imports_cell) { window._pyforest_update_imports_cell('import numpy as np\\nimport pandas as pd'); }\n",
       "    "
      ],
      "text/plain": [
       "<IPython.core.display.Javascript object>"
      ]
     },
     "metadata": {},
     "output_type": "display_data"
    }
   ],
   "source": [
    "# Delay costs\n",
    "flights[\"COST_DELAY_DEP\"] = \\\n",
    "            np.where(flights[\"DEP_DELAY\"] <= 15, 0, 75 * (flights[\"DEP_DELAY\"] - 15))\n",
    "\n",
    "flights[\"COST_DELAY_ARR\"] = \\\n",
    "            np.where(flights[\"ARR_DELAY\"] <= 15, 0, 75 * (flights[\"ARR_DELAY\"]- 15))      \n",
    "\n",
    "flights[\"COST_DELAY\"] = flights[\"COST_DELAY_DEP\"] + flights[\"COST_DELAY_ARR\"]\n",
    "flights.drop([\"COST_DELAY_DEP\", \"COST_DELAY_ARR\"], axis = 1, inplace = True)"
   ]
  },
  {
   "cell_type": "markdown",
   "id": "3fcb9b87-23f7-4264-8fb2-c004828efd8b",
   "metadata": {
    "tags": []
   },
   "source": [
    "#### b) Tickets"
   ]
  },
  {
   "cell_type": "markdown",
   "id": "21b78af3-44c5-45d4-83d8-6a59bbfa3781",
   "metadata": {
    "tags": []
   },
   "source": [
    "👉 Follow the instructions to process `tickets` dataset:"
   ]
  },
  {
   "cell_type": "markdown",
   "id": "155b3bbf-6b96-4cb4-b861-ace56c38c015",
   "metadata": {},
   "source": [
    "> 1. Add a new feature `ROUND_TRIP_ROUTE` - An example of a round\n",
    "trip route is the combination of JFK to ORD and ORD to JFK. The opposite order of the\n",
    "route, ORD to JFK and JFK to ORD, would be considered the same round trip"
   ]
  },
  {
   "cell_type": "code",
   "execution_count": 11,
   "id": "41c45ab0-be85-412d-8ba2-62f6d970c4a4",
   "metadata": {},
   "outputs": [
    {
     "data": {
      "application/javascript": [
       "\n",
       "        if (window._pyforest_update_imports_cell) { window._pyforest_update_imports_cell('import numpy as np\\nimport pandas as pd'); }\n",
       "    "
      ],
      "text/plain": [
       "<IPython.core.display.Javascript object>"
      ]
     },
     "metadata": {},
     "output_type": "display_data"
    }
   ],
   "source": [
    "tickets[\"ROUND_TRIP_ROUTE\"] = \\\n",
    "        np.where(tickets['ORIGIN'] < tickets['DESTINATION'], \\\n",
    "                 tickets['ORIGIN'] + '-' + tickets['DESTINATION'], \\\n",
    "                 tickets['DESTINATION'] + '-' + tickets['ORIGIN'])"
   ]
  },
  {
   "cell_type": "markdown",
   "id": "5ee35a21-7552-47e5-82fe-845eb3a49ace",
   "metadata": {},
   "source": [
    "> 2. Calculate median ticket price (`ITIN_FARE`) for each `ROUND_TRIP_ROUTE`"
   ]
  },
  {
   "cell_type": "code",
   "execution_count": 12,
   "id": "f9bb94b7-5afe-48b8-aa7f-083675444035",
   "metadata": {},
   "outputs": [],
   "source": [
    "tickets_price = tickets.groupby(\"ROUND_TRIP_ROUTE\").agg({\"ITIN_FARE\": \"median\"}).reset_index()"
   ]
  },
  {
   "cell_type": "markdown",
   "id": "372616b8-8359-4e3d-adf6-a11ddcb227c8",
   "metadata": {
    "tags": []
   },
   "source": [
    "#### c) Calculate Route Cost, Revenue and Profit"
   ]
  },
  {
   "cell_type": "markdown",
   "id": "a3c4ad63-d55c-429c-8ab2-9f58f07f42f4",
   "metadata": {},
   "source": [
    "> 1. Add information of ticket price (`ITIN_FARE`) for each `ROUND_TRIP_ROUTE` to the `flights` dataset"
   ]
  },
  {
   "cell_type": "code",
   "execution_count": 13,
   "id": "4c7cb3e4-a4f2-4f93-97f6-095c06475d0d",
   "metadata": {},
   "outputs": [],
   "source": [
    "_ = flights.merge(tickets_price)"
   ]
  },
  {
   "cell_type": "markdown",
   "id": "53a07bad-784a-426a-8915-5b3c889e0a91",
   "metadata": {},
   "source": [
    "> 2. Calculate the following Revenues and Costs based on business assumptions:\n",
    "\n",
    "- `REVENUE_TICKETS`: Each plane can accommodate up to 200 passengers and each flight has anassociated occupancy rate provided in the Flights data set. Do not use the Tickets data set to determine occupancy\n",
    "- `REVENUE_BUGGAGE`: Baggage fee is 35 USD for each checked bag per flight. We expect 50% of passengers to check an average of 1 bag per flight. The fee is charged separately for each leg of a round trip flight, thus 50% of passengers will be charged a total of 70 USD in baggage fees for a round trip flight\n",
    "- `COST_TOTAL`: Sum of all the costs for the round trip route\n",
    "- `REVENUE_TOTAL`: Sum of all the revenues for the round trip route\n",
    "- `PROFIT`: `REVENUE_TOTAL` - `COST_TOTAL`"
   ]
  },
  {
   "cell_type": "code",
   "execution_count": 15,
   "id": "1f19870e-3ec7-470f-bf5f-99d0f3871e93",
   "metadata": {},
   "outputs": [],
   "source": [
    "_ [\"REVENUE_TICKETS\"] = 200 * _ [\"OCCUPANCY_RATE\"] * _ [\"ITIN_FARE\"] * 0.5\n",
    "_ [\"REVENUE_BUGGAGE\"] = 200 * _ [\"OCCUPANCY_RATE\"] * 0.5 * 35\n",
    "_[\"COST_TOTAL\"] = _[\"COST_BASE\"] + _[\"COST_AIRPORT_OP\"] + _[\"COST_DELAY\"]\n",
    "_[\"REVENUE_TOTAL\"] = _[\"REVENUE_TICKETS\"] + _[\"REVENUE_BUGGAGE\"]\n",
    "_[\"PROFIT\"] = _[\"REVENUE_TOTAL\"] - _[\"COST_TOTAL\"]"
   ]
  },
  {
   "cell_type": "markdown",
   "id": "c2862e79-d956-47ba-84d3-8b521496d5a8",
   "metadata": {},
   "source": [
    "> 3. Generate a summary P&L (Profit & Loss) table containing the follwing attributes for each round trip route:\n",
    "\n",
    "- `DEP_DELAY`: median of the DEO_DELAY\n",
    "- `ARR_DELAY`: median of the ARR_DELAY\n",
    "- `AIR_TIME`: median of the AIR_TIME\n",
    "- `DISTANCE`: median of the DISTANCE\n",
    "- `OCCUPANCY_RATE`: median of the OCCUPANCY_RATE\n",
    "- `TRIP_FREQ`: number of trips\n",
    "- `COST_BASE`: sum of COST_BASE\n",
    "- `COST_AIRPORT_OP`:  sum of COST_AIRPORT_OP\n",
    "- `COST_DELAY`: sum of COST_DELAY\n",
    "- `REVENUE_TICKETS`: sum of REVENUE_TICKETS\n",
    "- `REVENUE_BUGGAGE`: sum of REVENUE_BUGGAGE\n",
    "- `COST_TOTAL`: sum of COST_TOTAL\n",
    "- `REVENUE_TOTAL`: sum of REVENUE_TOTAL\n",
    "- `PROFIT`: sum of PROFIT"
   ]
  },
  {
   "cell_type": "code",
   "execution_count": 17,
   "id": "1f657f0f-ea74-49a6-9720-f4eeee286462",
   "metadata": {},
   "outputs": [],
   "source": [
    "result = _.groupby(\"ROUND_TRIP_ROUTE\").agg({\"DEP_DELAY\": \"median\",\n",
    "                                            \"ARR_DELAY\": \"median\",\n",
    "                                            \"AIR_TIME\": \"median\",\n",
    "                                            \"DISTANCE\": \"median\",\n",
    "                                            \"OCCUPANCY_RATE\": \"median\",\n",
    "                                            \"FL_DATE\": \"count\",\n",
    "                                            \"COST_BASE\": \"sum\",\n",
    "                                            \"COST_AIRPORT_OP\": \"sum\",\n",
    "                                            \"COST_DELAY\": \"sum\",\n",
    "                                            \"REVENUE_TICKETS\": \"sum\",\n",
    "                                            \"REVENUE_BUGGAGE\": \"sum\",\n",
    "                                            \"COST_TOTAL\": \"sum\",\n",
    "                                            \"REVENUE_TOTAL\": \"sum\",\n",
    "                                            \"PROFIT\": \"sum\"}).\\\n",
    "                                    rename(columns = {\"FL_DATE\": \"TRIP_FREQ\"}).reset_index()"
   ]
  },
  {
   "cell_type": "markdown",
   "id": "b3b7d221-b079-4e5a-a7b1-3836984fe89a",
   "metadata": {},
   "source": [
    "<div class=\"alert alert-block alert-success\">\n",
    "<h4> <b> 3. Save P&L Table <b></h4>\n",
    "<div>"
   ]
  },
  {
   "cell_type": "markdown",
   "id": "a2f69d3c-00fc-485c-8fee-965a6b1aae72",
   "metadata": {
    "tags": []
   },
   "source": [
    "👉 Save the summarized P&L table in the in the `Result` folder for further business analysis"
   ]
  },
  {
   "cell_type": "code",
   "execution_count": 19,
   "id": "99168ece-7211-4161-8a78-67a9904e0224",
   "metadata": {},
   "outputs": [
    {
     "name": "stdout",
     "output_type": "stream",
     "text": [
      "Result file path is: F:\\Anaconda Files\\Datark\\商业分析实战项目\\Code\\Result\n"
     ]
    }
   ],
   "source": [
    "# Write your code here\n",
    "if os.path.exists(\"Result\"):\n",
    "    result_file_path = os.path.join(os.getcwd(), \"Result\")\n",
    "    print(\"Result file path is:\", result_file_path)\n",
    "else: \n",
    "    os.mkdir(\"Result\")\n",
    "    print(\"Result folder created\")\n",
    "\n",
    "result.to_csv(os.path.join(result_file_path, \"profit_and_loss.csv\"), index = False)"
   ]
  }
 ],
 "metadata": {
  "kernelspec": {
   "display_name": "Python 3 (ipykernel)",
   "language": "python",
   "name": "python3"
  },
  "language_info": {
   "codemirror_mode": {
    "name": "ipython",
    "version": 3
   },
   "file_extension": ".py",
   "mimetype": "text/x-python",
   "name": "python",
   "nbconvert_exporter": "python",
   "pygments_lexer": "ipython3",
   "version": "3.9.13"
  },
  "vscode": {
   "interpreter": {
    "hash": "a592bfa39f29f5170e2bf28c11de14617541821277cd261b2dd04d708fcbf992"
   }
  }
 },
 "nbformat": 4,
 "nbformat_minor": 5
}
