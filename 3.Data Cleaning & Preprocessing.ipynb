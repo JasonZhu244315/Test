{
 "cells": [
  {
   "cell_type": "markdown",
   "id": "f46d0a1e-bc66-4a4e-ba11-a6989c9ae26c",
   "metadata": {
    "tags": []
   },
   "source": [
    "<div class=\"alert alert-block alert-info\">\n",
    "<h3> <b> Part 3. Data Quality Check <b></h3>\n",
    "<div>"
   ]
  },
  {
   "cell_type": "markdown",
   "id": "af3ec2e3-9afd-4ae5-adc9-39bf68a1474e",
   "metadata": {},
   "source": [
    "❓ **Your challenge**: \n",
    "\n",
    "- Make sure you can succesfully import all the datasets: `Flights`, `Tickets` and `Airport Codes`\n",
    "- Read the case statement carefully, define the data to the scope requested\n",
    "- Conduct a detailed and logical flow of data quality check, including (and not limited to): `basic information understanding`, `duplicates`, `abnormalities`, `data type correction`, `missing value`, `skewness and distribution` and `correlation`\n",
    "\n",
    "💡 Suggested methodology:\n",
    "- Use the notebook below to write and test your code step-by-step first\n",
    "- Create any functions and put them in a .py file to clean/inspect data if necessary "
   ]
  },
  {
   "cell_type": "code",
   "execution_count": 32,
   "id": "3405cfd1-2041-4ddc-8687-897cf800babc",
   "metadata": {
    "tags": []
   },
   "outputs": [
    {
     "data": {
      "application/javascript": [
       "\n",
       "        if (window._pyforest_update_imports_cell) { window._pyforest_update_imports_cell('import pandas as pd\\nimport numpy as np'); }\n",
       "    "
      ],
      "text/plain": [
       "<IPython.core.display.Javascript object>"
      ]
     },
     "metadata": {},
     "output_type": "display_data"
    },
    {
     "data": {
      "application/javascript": [
       "\n",
       "        if (window._pyforest_update_imports_cell) { window._pyforest_update_imports_cell('import pandas as pd\\nimport numpy as np'); }\n",
       "    "
      ],
      "text/plain": [
       "<IPython.core.display.Javascript object>"
      ]
     },
     "metadata": {},
     "output_type": "display_data"
    },
    {
     "data": {
      "application/javascript": [
       "\n",
       "        if (window._pyforest_update_imports_cell) { window._pyforest_update_imports_cell('import pandas as pd\\nimport numpy as np'); }\n",
       "    "
      ],
      "text/plain": [
       "<IPython.core.display.Javascript object>"
      ]
     },
     "metadata": {},
     "output_type": "display_data"
    },
    {
     "name": "stdout",
     "output_type": "stream",
     "text": [
      "The autoreload extension is already loaded. To reload it, use:\n",
      "  %reload_ext autoreload\n"
     ]
    }
   ],
   "source": [
    "# Add any packages you need here\n",
    "import pyforest\n",
    "import copy\n",
    "import string\n",
    "import missingno as msno\n",
    "import requests\n",
    "import zipfile\n",
    "import os\n",
    "\n",
    "from Airport.get_data import GetData\n",
    "from Airport import check_data, fix_data\n",
    "\n",
    "import warnings\n",
    "warnings.filterwarnings(\"ignore\")\n",
    "\n",
    "# pd.set_option(\"display.max_rows\", None)\n",
    "pd.set_option(\"display.max_columns\", None)\n",
    "pd.set_option(\"display.max_colwidth\", None)\n",
    "pd.set_option(\"display.float_format\", lambda x: \"%.2f\" %x) # suppress scientific notation\n",
    "\n",
    "# This can help to autoreload the packages you create\n",
    "%load_ext autoreload\n",
    "%autoreload 2"
   ]
  },
  {
   "cell_type": "markdown",
   "id": "45374676-200c-4a22-880b-d9eeeec281e3",
   "metadata": {},
   "source": [
    "<div class=\"alert alert-block alert-success\">\n",
    "<h4> <b> 1. Define Data Scope <b></h4>\n",
    "<div>"
   ]
  },
  {
   "cell_type": "markdown",
   "id": "892c7a77-e434-4b83-a6c3-386fb02385e5",
   "metadata": {
    "tags": []
   },
   "source": [
    "👉 Our goal is to make sure we define our data scope clearly - to remove any data we are not interested in our current case study, here are the steps you can tak:\n",
    "\n",
    "> 1. Import three datasets- `Flights`, `Tickets` and `Airport Codes` using the `get_data.py` we created\n",
    "2. Read the case statement carefully, identify research scope for each dataset. Do note that the scopes might not in the same paragraph\n",
    "3. Use pandas to handle the processing flexibly\n",
    "\n",
    "<details>\n",
    "    <summary>💡Hint for functions or operations you may need</summary>\n",
    "\n",
    "- pandas subset - `[]`\n",
    "- reset_index()\n",
    "\n",
    "</details>"
   ]
  },
  {
   "cell_type": "code",
   "execution_count": 33,
   "id": "6234f261-e2ef-4545-9fef-70dd609bc659",
   "metadata": {},
   "outputs": [
    {
     "name": "stdout",
     "output_type": "stream",
     "text": [
      "Data dictionary generated\n"
     ]
    }
   ],
   "source": [
    "# Import the datasets - write your code here\n",
    "data = GetData().get_data()\n",
    "\n",
    "airport_codes = data.get(\"Airport_Codes\")\n",
    "flights = data.get(\"Flights\")\n",
    "tickets = data.get(\"Tickets\")"
   ]
  },
  {
   "cell_type": "code",
   "execution_count": 34,
   "id": "5d597e8b-9e70-42ff-883b-335bf8a15af4",
   "metadata": {},
   "outputs": [],
   "source": [
    "# Define data scope - write your code here\n",
    "airport_codes = airport_codes[(airport_codes[\"TYPE\"].isin([\"large_airport\", \"medium_airport\"])) & (airport_codes[\"ISO_COUNTRY\"] == \"US\")].reset_index(drop = True)\n",
    "flights = flights[flights[\"CANCELLED\"] == 0].reset_index(drop = True)\n",
    "tickets = tickets[tickets[\"ROUNDTRIP\"] == 1].reset_index(drop = True)"
   ]
  },
  {
   "cell_type": "markdown",
   "id": "a0655a50-4497-41c6-9acb-75b94b076d44",
   "metadata": {},
   "source": [
    "<div class=\"alert alert-block alert-success\">\n",
    "<h4> <b> 2. Data Quality Check <b></h4>\n",
    "<div>"
   ]
  },
  {
   "cell_type": "markdown",
   "id": "e2cf528c-fc22-4d1c-b814-e6ee8fe550a6",
   "metadata": {
    "tags": []
   },
   "source": [
    "#### a) Basic Information Understanding"
   ]
  },
  {
   "cell_type": "markdown",
   "id": "ae727b66-3f6e-4ae2-8621-05c1e01f8ba1",
   "metadata": {
    "tags": []
   },
   "source": [
    "👉 Our goal is to get a glimpse of the data, feel free to use any technique in your arsenal to understand the data you are dealing with"
   ]
  },
  {
   "cell_type": "code",
   "execution_count": 35,
   "id": "f3823a09-9f38-4ae6-a462-0723c58df31d",
   "metadata": {
    "tags": []
   },
   "outputs": [
    {
     "name": "stdout",
     "output_type": "stream",
     "text": [
      "<class 'pandas.core.frame.DataFrame'>\n",
      "RangeIndex: 1864272 entries, 0 to 1864271\n",
      "Data columns (total 16 columns):\n",
      " #   Column             Dtype  \n",
      "---  ------             -----  \n",
      " 0   FL_DATE            object \n",
      " 1   OP_CARRIER         object \n",
      " 2   TAIL_NUM           object \n",
      " 3   OP_CARRIER_FL_NUM  object \n",
      " 4   ORIGIN_AIRPORT_ID  int64  \n",
      " 5   ORIGIN             object \n",
      " 6   ORIGIN_CITY_NAME   object \n",
      " 7   DEST_AIRPORT_ID    int64  \n",
      " 8   DESTINATION        object \n",
      " 9   DEST_CITY_NAME     object \n",
      " 10  DEP_DELAY          float64\n",
      " 11  ARR_DELAY          float64\n",
      " 12  CANCELLED          float64\n",
      " 13  AIR_TIME           object \n",
      " 14  DISTANCE           object \n",
      " 15  OCCUPANCY_RATE     float64\n",
      "dtypes: float64(4), int64(2), object(10)\n",
      "memory usage: 227.6+ MB\n",
      "<class 'pandas.core.frame.DataFrame'>\n",
      "RangeIndex: 708600 entries, 0 to 708599\n",
      "Data columns (total 12 columns):\n",
      " #   Column             Non-Null Count   Dtype  \n",
      "---  ------             --------------   -----  \n",
      " 0   ITIN_ID            708600 non-null  int64  \n",
      " 1   YEAR               708600 non-null  int64  \n",
      " 2   QUARTER            708600 non-null  int64  \n",
      " 3   ORIGIN             708600 non-null  object \n",
      " 4   ORIGIN_COUNTRY     708600 non-null  object \n",
      " 5   ORIGIN_STATE_ABR   708600 non-null  object \n",
      " 6   ORIGIN_STATE_NM    708600 non-null  object \n",
      " 7   ROUNDTRIP          708600 non-null  float64\n",
      " 8   REPORTING_CARRIER  708600 non-null  object \n",
      " 9   PASSENGERS         707403 non-null  float64\n",
      " 10  ITIN_FARE          708040 non-null  object \n",
      " 11  DESTINATION        708600 non-null  object \n",
      "dtypes: float64(2), int64(3), object(7)\n",
      "memory usage: 64.9+ MB\n",
      "<class 'pandas.core.frame.DataFrame'>\n",
      "RangeIndex: 858 entries, 0 to 857\n",
      "Data columns (total 8 columns):\n",
      " #   Column        Non-Null Count  Dtype  \n",
      "---  ------        --------------  -----  \n",
      " 0   TYPE          858 non-null    object \n",
      " 1   NAME          858 non-null    object \n",
      " 2   ELEVATION_FT  855 non-null    float64\n",
      " 3   CONTINENT     0 non-null      object \n",
      " 4   ISO_COUNTRY   858 non-null    object \n",
      " 5   MUNICIPALITY  855 non-null    object \n",
      " 6   IATA_CODE     821 non-null    object \n",
      " 7   COORDINATES   858 non-null    object \n",
      "dtypes: float64(1), object(7)\n",
      "memory usage: 53.8+ KB\n"
     ]
    }
   ],
   "source": [
    "# Write your code here\n",
    "flights.info()\n",
    "tickets.info()\n",
    "airport_codes.info()"
   ]
  },
  {
   "cell_type": "markdown",
   "id": "93a08c54-0b8e-447c-a938-222a7ec2efb5",
   "metadata": {
    "tags": []
   },
   "source": [
    "#### b) Remove Duplicates"
   ]
  },
  {
   "cell_type": "markdown",
   "id": "8ad5c351-90da-4cad-812e-384900b11759",
   "metadata": {
    "tags": []
   },
   "source": [
    "👉 It's important to remove duplicated values as this is real-word data. A good practice is to document number of duplicates removed"
   ]
  },
  {
   "cell_type": "code",
   "execution_count": 36,
   "id": "c3180e57-f1fc-4489-b19f-989bfdc440f2",
   "metadata": {},
   "outputs": [
    {
     "name": "stdout",
     "output_type": "stream",
     "text": [
      "flights duplicates removed: 4410\n",
      "tickets duplicates removed: 47564\n",
      "airport_codes duplicates removed: 0\n"
     ]
    }
   ],
   "source": [
    "# Write your code here\n",
    "\n",
    "# Check duplicated observation \n",
    "print(\"flights duplicates removed:\", flights.shape[0] - flights.drop_duplicates().shape[0])\n",
    "print(\"tickets duplicates removed:\", tickets.shape[0] - tickets.drop_duplicates().shape[0])\n",
    "print(\"airport_codes duplicates removed:\", airport_codes.shape[0] - airport_codes.drop_duplicates().shape[0])"
   ]
  },
  {
   "cell_type": "code",
   "execution_count": 37,
   "id": "743d6a64-a88d-4f15-bda2-0349cb3d48df",
   "metadata": {},
   "outputs": [],
   "source": [
    "# Remove duplicated values\n",
    "flights.drop_duplicates(inplace = True)\n",
    "tickets.drop_duplicates(inplace = True)\n",
    "airport_codes.drop_duplicates(inplace = True)"
   ]
  },
  {
   "cell_type": "markdown",
   "id": "a064d499-4388-4caf-ab8c-82731795e7bf",
   "metadata": {
    "tags": []
   },
   "source": [
    "#### c) Abnormal Value Check & Processing"
   ]
  },
  {
   "cell_type": "markdown",
   "id": "5bddadf3-6561-4371-95a4-cf395b41a39c",
   "metadata": {
    "tags": []
   },
   "source": [
    "👉 One of the biggest challenges in dealing with real-world data is messniess in the dataset, to ensure data tidiness, here are some steps you might need to take:\n",
    "\n",
    "> 1. Inspect your data carefully, are there are any abnormalities in terms of data type?\n",
    "2. You might find some untidy values due to human or system errors, creat a function to identify them\n",
    "3. Based on your understanding and data cleaning experience, handle these abnormal values appropriately"
   ]
  },
  {
   "cell_type": "code",
   "execution_count": 38,
   "id": "c3810634-f740-4eef-b1d1-d7e23224763b",
   "metadata": {},
   "outputs": [
    {
     "data": {
      "text/plain": [
       "****       203\n",
       "-198        15\n",
       "-1947        7\n",
       "NAN          2\n",
       "Hundred      1\n",
       "Twenty       1\n",
       "Name: DISTANCE, dtype: int64"
      ]
     },
     "execution_count": 38,
     "metadata": {},
     "output_type": "execute_result"
    }
   ],
   "source": [
    "# Write your code here\n",
    "\n",
    "# Flights - DISTANCE\n",
    "# Identify abnormal values\n",
    "flights[\"DISTANCE_check\"] = flights[\"DISTANCE\"].map(lambda x: check_data.check_str_punc(str(x)))\n",
    "flights[flights[\"DISTANCE_check\"] == True][\"DISTANCE\"].value_counts()"
   ]
  },
  {
   "cell_type": "code",
   "execution_count": 39,
   "id": "68e49777-a49c-4c71-95e3-a1f030b65284",
   "metadata": {},
   "outputs": [
    {
     "data": {
      "application/javascript": [
       "\n",
       "        if (window._pyforest_update_imports_cell) { window._pyforest_update_imports_cell('import pandas as pd\\nimport numpy as np'); }\n",
       "    "
      ],
      "text/plain": [
       "<IPython.core.display.Javascript object>"
      ]
     },
     "metadata": {},
     "output_type": "display_data"
    },
    {
     "data": {
      "application/javascript": [
       "\n",
       "        if (window._pyforest_update_imports_cell) { window._pyforest_update_imports_cell('import pandas as pd\\nimport numpy as np'); }\n",
       "    "
      ],
      "text/plain": [
       "<IPython.core.display.Javascript object>"
      ]
     },
     "metadata": {},
     "output_type": "display_data"
    },
    {
     "data": {
      "application/javascript": [
       "\n",
       "        if (window._pyforest_update_imports_cell) { window._pyforest_update_imports_cell('import pandas as pd\\nimport numpy as np'); }\n",
       "    "
      ],
      "text/plain": [
       "<IPython.core.display.Javascript object>"
      ]
     },
     "metadata": {},
     "output_type": "display_data"
    },
    {
     "data": {
      "application/javascript": [
       "\n",
       "        if (window._pyforest_update_imports_cell) { window._pyforest_update_imports_cell('import pandas as pd\\nimport numpy as np'); }\n",
       "    "
      ],
      "text/plain": [
       "<IPython.core.display.Javascript object>"
      ]
     },
     "metadata": {},
     "output_type": "display_data"
    }
   ],
   "source": [
    "# Process abnormal values\n",
    "flights[\"DISTANCE\"] = flights[\"DISTANCE\"].replace({\"****\": np.nan,\n",
    "                                                   \"NAN\": np.nan,\n",
    "                                                   \"-198\": np.nan,\n",
    "                                                   \"-1947\": np.nan,\n",
    "                                                   \"Hundred\": 100,\n",
    "                                                   \"Twenty\": 20})\n",
    "\n",
    "flights[\"DISTANCE\"] = flights[\"DISTANCE\"].astype(float)\n",
    "flights.drop(\"DISTANCE_check\", axis = 1, inplace = True)"
   ]
  },
  {
   "cell_type": "code",
   "execution_count": 40,
   "id": "52659699-bb64-47ec-8b59-5e31cd1040df",
   "metadata": {},
   "outputs": [
    {
     "data": {
      "text/plain": [
       "$$$     181\n",
       "-121     10\n",
       "Two       1\n",
       "NAN       1\n",
       "Name: AIR_TIME, dtype: int64"
      ]
     },
     "execution_count": 40,
     "metadata": {},
     "output_type": "execute_result"
    }
   ],
   "source": [
    "# Flights - AIR_TIME\n",
    "# Identify abnormal values\n",
    "flights[\"AIR_TIME_check\"] = flights[\"AIR_TIME\"].map(lambda x: check_data.check_str_punc(str(x)))\n",
    "flights[flights[\"AIR_TIME_check\"] == True][\"AIR_TIME\"].value_counts()"
   ]
  },
  {
   "cell_type": "code",
   "execution_count": 41,
   "id": "11afd7db-285f-41fd-9edf-b44f3405e344",
   "metadata": {},
   "outputs": [
    {
     "data": {
      "application/javascript": [
       "\n",
       "        if (window._pyforest_update_imports_cell) { window._pyforest_update_imports_cell('import pandas as pd\\nimport numpy as np'); }\n",
       "    "
      ],
      "text/plain": [
       "<IPython.core.display.Javascript object>"
      ]
     },
     "metadata": {},
     "output_type": "display_data"
    },
    {
     "data": {
      "application/javascript": [
       "\n",
       "        if (window._pyforest_update_imports_cell) { window._pyforest_update_imports_cell('import pandas as pd\\nimport numpy as np'); }\n",
       "    "
      ],
      "text/plain": [
       "<IPython.core.display.Javascript object>"
      ]
     },
     "metadata": {},
     "output_type": "display_data"
    }
   ],
   "source": [
    "# Process abnormal values\n",
    "flights[\"AIR_TIME\"] = np.where(flights[\"AIR_TIME_check\"] == True, np.nan, flights[\"AIR_TIME\"])\n",
    "\n",
    "flights[\"AIR_TIME\"] = flights[\"AIR_TIME\"].astype(float)\n",
    "flights.drop(\"AIR_TIME_check\", axis = 1, inplace = True)"
   ]
  },
  {
   "cell_type": "code",
   "execution_count": 42,
   "id": "68cf0c40-d9bb-4993-b70d-45c6eaba9ff3",
   "metadata": {},
   "outputs": [
    {
     "data": {
      "text/plain": [
       "200 $       677\n",
       "$ 100.00    273\n",
       "820$$$      256\n",
       "Name: ITIN_FARE, dtype: int64"
      ]
     },
     "execution_count": 42,
     "metadata": {},
     "output_type": "execute_result"
    }
   ],
   "source": [
    "# Tickets - INIT_FARE\n",
    "# Identify abnormal values\n",
    "tickets[\"ITIN_FARE_check\"] = tickets[\"ITIN_FARE\"].map(lambda x: check_data.check_str_punc(str(x)))\n",
    "tickets[tickets[\"ITIN_FARE_check\"] == True][\"ITIN_FARE\"].value_counts()"
   ]
  },
  {
   "cell_type": "code",
   "execution_count": 43,
   "id": "b7ab9978-bd97-45d6-b9c8-bd505f0e8a7e",
   "metadata": {},
   "outputs": [],
   "source": [
    "# Process abnormal values\n",
    "tickets[\"ITIN_FARE\"] = tickets[\"ITIN_FARE\"].replace({\"$ 100.00\": 100,\n",
    "                                                     \"200 $\": 200,\n",
    "                                                     \"820$$$\": 820})\n",
    "\n",
    "tickets[\"ITIN_FARE\"] = tickets[\"ITIN_FARE\"].astype(float)\n",
    "tickets.drop(\"ITIN_FARE_check\", axis = 1, inplace = True)"
   ]
  },
  {
   "cell_type": "markdown",
   "id": "47204a8c-1104-4743-b497-43d942f38095",
   "metadata": {
    "tags": []
   },
   "source": [
    "#### d) Unify Data Type"
   ]
  },
  {
   "cell_type": "markdown",
   "id": "af159fdb-9108-467c-aedd-6df402e1170a",
   "metadata": {
    "tags": []
   },
   "source": [
    "👉 Make sure all the data types make sense"
   ]
  },
  {
   "cell_type": "code",
   "execution_count": 44,
   "id": "1b43bcd7-dc00-4c07-ad6f-45c933319a37",
   "metadata": {},
   "outputs": [
    {
     "data": {
      "application/javascript": [
       "\n",
       "        if (window._pyforest_update_imports_cell) { window._pyforest_update_imports_cell('import pandas as pd\\nimport numpy as np'); }\n",
       "    "
      ],
      "text/plain": [
       "<IPython.core.display.Javascript object>"
      ]
     },
     "metadata": {},
     "output_type": "display_data"
    }
   ],
   "source": [
    "# Write your code here\n",
    "flights_cate_cols = [\"ORIGIN_AIRPORT_ID\", \"DEST_AIRPORT_ID\", \"CANCELLED\"]\n",
    "tickets_cate_cols = [\"ITIN_ID\", \"YEAR\", \"QUARTER\", \"ROUNDTRIP\"]\n",
    "\n",
    "# Convert to categorical \n",
    "for col in flights_cate_cols:\n",
    "    flights[col] = flights[col].astype(object)\n",
    "\n",
    "for col in tickets_cate_cols:\n",
    "    tickets[col] = tickets[col].astype(object)\n",
    "\n",
    "# Convert to datetime\n",
    "flights[\"FL_DATE\"] = pd.to_datetime(flights[\"FL_DATE\"])"
   ]
  },
  {
   "cell_type": "markdown",
   "id": "169469d4-6f76-48b2-a07c-bf2c60f2513c",
   "metadata": {
    "tags": []
   },
   "source": [
    "#### e) Missing Value Detection & Processing"
   ]
  },
  {
   "cell_type": "markdown",
   "id": "99d84ab8-0765-47a8-a690-12354cafff63",
   "metadata": {
    "tags": []
   },
   "source": [
    "👉 Another challenge in real-world data is missing values, here is what you can do: \n",
    "\n",
    "> 1. Create a function `check_missing_values` that return a missing value table containing column name, absolute missing value and missing percentage\n",
    "2. Build a `check_data.py` which contains the function `check_missing_values` and test it in the jupyter environment\n",
    "3. Deal with the missing values besed on your understanding of the data, you decide to delete or impute the missing values with appropriate techniques"
   ]
  },
  {
   "cell_type": "code",
   "execution_count": 45,
   "id": "0d4aa2b7-9a56-4b43-82ab-5b9db988af48",
   "metadata": {
    "tags": []
   },
   "outputs": [
    {
     "data": {
      "text/html": [
       "<div>\n",
       "<style scoped>\n",
       "    .dataframe tbody tr th:only-of-type {\n",
       "        vertical-align: middle;\n",
       "    }\n",
       "\n",
       "    .dataframe tbody tr th {\n",
       "        vertical-align: top;\n",
       "    }\n",
       "\n",
       "    .dataframe thead th {\n",
       "        text-align: right;\n",
       "    }\n",
       "</style>\n",
       "<table border=\"1\" class=\"dataframe\">\n",
       "  <thead>\n",
       "    <tr style=\"text-align: right;\">\n",
       "      <th></th>\n",
       "      <th>Attribute</th>\n",
       "      <th>Missing#</th>\n",
       "      <th>Missing%</th>\n",
       "    </tr>\n",
       "  </thead>\n",
       "  <tbody>\n",
       "    <tr>\n",
       "      <th>0</th>\n",
       "      <td>CONTINENT</td>\n",
       "      <td>858</td>\n",
       "      <td>100.00</td>\n",
       "    </tr>\n",
       "    <tr>\n",
       "      <th>1</th>\n",
       "      <td>IATA_CODE</td>\n",
       "      <td>37</td>\n",
       "      <td>4.31</td>\n",
       "    </tr>\n",
       "    <tr>\n",
       "      <th>2</th>\n",
       "      <td>ELEVATION_FT</td>\n",
       "      <td>3</td>\n",
       "      <td>0.35</td>\n",
       "    </tr>\n",
       "    <tr>\n",
       "      <th>3</th>\n",
       "      <td>MUNICIPALITY</td>\n",
       "      <td>3</td>\n",
       "      <td>0.35</td>\n",
       "    </tr>\n",
       "    <tr>\n",
       "      <th>4</th>\n",
       "      <td>TYPE</td>\n",
       "      <td>0</td>\n",
       "      <td>0.00</td>\n",
       "    </tr>\n",
       "    <tr>\n",
       "      <th>5</th>\n",
       "      <td>NAME</td>\n",
       "      <td>0</td>\n",
       "      <td>0.00</td>\n",
       "    </tr>\n",
       "    <tr>\n",
       "      <th>6</th>\n",
       "      <td>ISO_COUNTRY</td>\n",
       "      <td>0</td>\n",
       "      <td>0.00</td>\n",
       "    </tr>\n",
       "    <tr>\n",
       "      <th>7</th>\n",
       "      <td>COORDINATES</td>\n",
       "      <td>0</td>\n",
       "      <td>0.00</td>\n",
       "    </tr>\n",
       "  </tbody>\n",
       "</table>\n",
       "</div>"
      ],
      "text/plain": [
       "      Attribute  Missing#  Missing%\n",
       "0     CONTINENT       858    100.00\n",
       "1     IATA_CODE        37      4.31\n",
       "2  ELEVATION_FT         3      0.35\n",
       "3  MUNICIPALITY         3      0.35\n",
       "4          TYPE         0      0.00\n",
       "5          NAME         0      0.00\n",
       "6   ISO_COUNTRY         0      0.00\n",
       "7   COORDINATES         0      0.00"
      ]
     },
     "execution_count": 45,
     "metadata": {},
     "output_type": "execute_result"
    }
   ],
   "source": [
    "# Write your code here\n",
    "\n",
    "# Check missing values\n",
    "check_data.check_missing_values(flights)\n",
    "check_data.check_missing_values(tickets)\n",
    "check_data.check_missing_values(airport_codes)"
   ]
  },
  {
   "cell_type": "code",
   "execution_count": 46,
   "id": "2c453f91-4ffc-4655-89f7-3d0ad0024b91",
   "metadata": {},
   "outputs": [
    {
     "name": "stdout",
     "output_type": "stream",
     "text": [
      "flights missing record removed: 4832\n",
      "tickets missing record removed: 1406\n"
     ]
    }
   ],
   "source": [
    "# Check data observation after removing observation with missing value\n",
    "print(\"flights missing record removed:\", flights.shape[0] - flights.dropna().shape[0])\n",
    "print(\"tickets missing record removed:\", tickets.shape[0] - tickets.dropna().shape[0])"
   ]
  },
  {
   "cell_type": "code",
   "execution_count": 47,
   "id": "3553249e-3ad7-4a4b-bcb3-9d5c68faaa8e",
   "metadata": {},
   "outputs": [],
   "source": [
    "# Remove rows with missing values\n",
    "flights.dropna(inplace = True)\n",
    "tickets.dropna(inplace = True)"
   ]
  },
  {
   "cell_type": "markdown",
   "id": "b7de6f68-6893-4104-b54c-08efa9ac2d1b",
   "metadata": {
    "tags": []
   },
   "source": [
    "#### f) Outliers Detection & Processing"
   ]
  },
  {
   "cell_type": "markdown",
   "id": "e3b4497a-2a94-46db-9787-82ffb97ab968",
   "metadata": {
    "tags": []
   },
   "source": [
    "👉 You should also pay heed to outliers: values that are out of your business scope or simply make no sense, here is what you can do: \n",
    "\n",
    "> 1. Check important attributes carefully: `AIR_TIME`, `DISTANCE`, `DEP_DELAY`, `ARR_DELAY` from `Flights` data and `PASSENGERS`, `ITIN_FARE` from `Tickets` data\n",
    "2. Based on your observation and common sense, define upper and lower bound to mark values outside of the bounds are outliers\n",
    "3. Build and test a function `replace_outliers` that replace all the outliers to median and put it in a new module `fix_data.py`"
   ]
  },
  {
   "cell_type": "code",
   "execution_count": 48,
   "id": "9cb84a59-ccbb-43b9-824f-1447021b202f",
   "metadata": {
    "collapsed": true,
    "jupyter": {
     "outputs_hidden": true
    },
    "tags": []
   },
   "outputs": [
    {
     "data": {
      "text/html": [
       "<div>\n",
       "<style scoped>\n",
       "    .dataframe tbody tr th:only-of-type {\n",
       "        vertical-align: middle;\n",
       "    }\n",
       "\n",
       "    .dataframe tbody tr th {\n",
       "        vertical-align: top;\n",
       "    }\n",
       "\n",
       "    .dataframe thead th {\n",
       "        text-align: right;\n",
       "    }\n",
       "</style>\n",
       "<table border=\"1\" class=\"dataframe\">\n",
       "  <thead>\n",
       "    <tr style=\"text-align: right;\">\n",
       "      <th></th>\n",
       "      <th>PASSENGERS</th>\n",
       "      <th>ITIN_FARE</th>\n",
       "    </tr>\n",
       "  </thead>\n",
       "  <tbody>\n",
       "    <tr>\n",
       "      <th>count</th>\n",
       "      <td>659630.00</td>\n",
       "      <td>659630.00</td>\n",
       "    </tr>\n",
       "    <tr>\n",
       "      <th>mean</th>\n",
       "      <td>1.96</td>\n",
       "      <td>472.94</td>\n",
       "    </tr>\n",
       "    <tr>\n",
       "      <th>std</th>\n",
       "      <td>5.15</td>\n",
       "      <td>344.14</td>\n",
       "    </tr>\n",
       "    <tr>\n",
       "      <th>min</th>\n",
       "      <td>1.00</td>\n",
       "      <td>0.00</td>\n",
       "    </tr>\n",
       "    <tr>\n",
       "      <th>25%</th>\n",
       "      <td>1.00</td>\n",
       "      <td>279.00</td>\n",
       "    </tr>\n",
       "    <tr>\n",
       "      <th>50%</th>\n",
       "      <td>1.00</td>\n",
       "      <td>415.00</td>\n",
       "    </tr>\n",
       "    <tr>\n",
       "      <th>75%</th>\n",
       "      <td>1.00</td>\n",
       "      <td>595.00</td>\n",
       "    </tr>\n",
       "    <tr>\n",
       "      <th>max</th>\n",
       "      <td>681.00</td>\n",
       "      <td>38400.00</td>\n",
       "    </tr>\n",
       "  </tbody>\n",
       "</table>\n",
       "</div>"
      ],
      "text/plain": [
       "       PASSENGERS  ITIN_FARE\n",
       "count   659630.00  659630.00\n",
       "mean         1.96     472.94\n",
       "std          5.15     344.14\n",
       "min          1.00       0.00\n",
       "25%          1.00     279.00\n",
       "50%          1.00     415.00\n",
       "75%          1.00     595.00\n",
       "max        681.00   38400.00"
      ]
     },
     "execution_count": 48,
     "metadata": {},
     "output_type": "execute_result"
    }
   ],
   "source": [
    "# Write your code here\n",
    "\n",
    "flights.describe()\n",
    "tickets.describe()"
   ]
  },
  {
   "cell_type": "code",
   "execution_count": 49,
   "id": "2a3e017f-9aa8-44dd-97f8-d980434f69db",
   "metadata": {},
   "outputs": [],
   "source": [
    "fix_data.replace_outliers(flights, 'AIR_TIME', 50, 1000)\n",
    "fix_data.replace_outliers(flights, 'DISTANCE', 50, 6000)\n",
    "fix_data.replace_outliers(flights, 'DEP_DELAY', False, 1750)\n",
    "fix_data.replace_outliers(flights, 'ARR_DELAY', False, 2000)\n",
    "\n",
    "fix_data.replace_outliers(tickets, 'PASSENGERS', 0, 300)\n",
    "fix_data.replace_outliers(tickets, 'ITIN_FARE', 20, 15000)"
   ]
  },
  {
   "cell_type": "markdown",
   "id": "8ff51d3f-3407-4e0f-b28c-2c00da389b0d",
   "metadata": {},
   "source": [
    "<div class=\"alert alert-block alert-success\">\n",
    "<h4> <b> 3. Save Cleaned Data <b></h4>\n",
    "<div>"
   ]
  },
  {
   "cell_type": "markdown",
   "id": "511d2c86-b83c-49f0-b1ec-0c5a0d94153d",
   "metadata": {
    "tags": []
   },
   "source": [
    "👉 Save all the datasets with a suffix `_cleaned` as `.csv` file in the `Raw Data` folder"
   ]
  },
  {
   "cell_type": "code",
   "execution_count": 51,
   "id": "d41fd1d1-c11b-4fb0-ad3b-09f042de8ba0",
   "metadata": {},
   "outputs": [
    {
     "name": "stdout",
     "output_type": "stream",
     "text": [
      "Import file path is: F:\\Anaconda Files\\Datark\\商业分析实战项目\\Code\\Raw Data\n"
     ]
    }
   ],
   "source": [
    "# Write your code here\n",
    "if os.path.exists(\"Raw Data\"):\n",
    "    import_file_path = os.path.join(os.getcwd(), \"Raw Data\")\n",
    "    print(\"Import file path is:\", import_file_path)\n",
    "else: \n",
    "    os.mkdir(\"Raw Data\")\n",
    "    print(\"Raw Data folder created\")\n",
    "\n",
    "# flights.to_csv(os.path.join(import_file_path, \"flights_cleaned.csv\"), index = False)\n",
    "# tickets.to_csv(os.path.join(import_file_path, \"tickets_cleaned.csv\"), index = False)\n",
    "# airport_codes.to_csv(os.path.join(import_file_path, \"airport_codes_cleaned.csv\"), index = False)"
   ]
  }
 ],
 "metadata": {
  "kernelspec": {
   "display_name": "Python 3 (ipykernel)",
   "language": "python",
   "name": "python3"
  },
  "language_info": {
   "codemirror_mode": {
    "name": "ipython",
    "version": 3
   },
   "file_extension": ".py",
   "mimetype": "text/x-python",
   "name": "python",
   "nbconvert_exporter": "python",
   "pygments_lexer": "ipython3",
   "version": "3.9.13"
  }
 },
 "nbformat": 4,
 "nbformat_minor": 5
}
