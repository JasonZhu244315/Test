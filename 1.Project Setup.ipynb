{
 "cells": [
  {
   "cell_type": "markdown",
   "id": "c50c30f8-30a0-404b-8c2a-275414715cbe",
   "metadata": {
    "tags": []
   },
   "source": [
    "<div class=\"alert alert-block alert-info\">\n",
    "<h3> <b> Part 1. Project Setup <b></h3>\n",
    "<div>"
   ]
  },
  {
   "cell_type": "markdown",
   "id": "7931b991-0baf-49ab-b459-da141e322b56",
   "metadata": {},
   "source": [
    "❓ **Your challenge**: \n",
    "\n",
    "- In your project folder, create two folders `Raw Data` to store extracted data from Github and `Result` to store any outcome files\n",
    "- Then, create a module `download_data.py` that can automatically link to our data source: \"https://github.com/CapitalOneRecruiting/DA-Airline-Data-Challenge/raw/main/data.zip\", download, unzip it and save to the `Raw Data` folder you just created. Make sure the zip file will be deleted automaticlly once the data extraction is done\n",
    "\n",
    "💡 Suggested methodology:\n",
    "- Use the notebook below to write and test your code step-by-step first\n",
    "- Then copy the code into `download_data.py` once you are certain of your code logic\n",
    "- Lastly, import the `download_data.py` module to confirm its feasibility"
   ]
  },
  {
   "cell_type": "markdown",
   "id": "e4b06f14-59a5-4a51-9fc4-0b983c0ec9dc",
   "metadata": {
    "tags": []
   },
   "source": [
    "🔥 Notebook best practices (must-read) 👇\n",
    "\n",
    "<details>\n",
    "    <summary>▸ <i>click here</i></summary>\n",
    "\n",
    "From now on, exploratory notebooks are going to become pretty long, and we strongly advise you to follow these notebook principles:\n",
    "- Code your logic so that your Notebook can always be ran from top to bottom without crashing (Cell --> Run All)\n",
    "- Name your variables carefully \n",
    "- Use dummy names such as `tmp` or `_` for intermediary steps when you know you won't need them for long\n",
    "- Clear your code and merge cells when relevant to minimize Notebook size (`Shift-M`)\n",
    "- Hide your cell output if you don't need to see it anymore (double-click on the red `Out[]:` section to the left of your cell).\n",
    "- Make heavy use of jupyter nbextention `Collapsible Headings` and `Table of Content` (call a TA if you can't find them)\n",
    "- Use the following shortcuts \n",
    "    - `a` to insert a cell above\n",
    "    - `b` to insert a cell below\n",
    "    - `dd` to delete a cell\n",
    "    - `esc` and `arrows` to move between cells\n",
    "    - `Shift-Enter` to execute cell and move focus to the next one\n",
    "    - use `Shift + Tab` when you are between method brackets e.g. `groupby()` to get the docs! Repeat a few times to open it permanently\n",
    "\n",
    "</details>\n",
    "\n",
    "\n",
    "\n"
   ]
  },
  {
   "cell_type": "code",
   "execution_count": 7,
   "id": "ad8e7a88-1da0-4dc6-9167-af983dd2de01",
   "metadata": {
    "tags": []
   },
   "outputs": [
    {
     "data": {
      "application/javascript": [
       "\n",
       "        if (window._pyforest_update_imports_cell) { window._pyforest_update_imports_cell('import pandas as pd'); }\n",
       "    "
      ],
      "text/plain": [
       "<IPython.core.display.Javascript object>"
      ]
     },
     "metadata": {},
     "output_type": "display_data"
    },
    {
     "data": {
      "application/javascript": [
       "\n",
       "        if (window._pyforest_update_imports_cell) { window._pyforest_update_imports_cell('import pandas as pd'); }\n",
       "    "
      ],
      "text/plain": [
       "<IPython.core.display.Javascript object>"
      ]
     },
     "metadata": {},
     "output_type": "display_data"
    },
    {
     "data": {
      "application/javascript": [
       "\n",
       "        if (window._pyforest_update_imports_cell) { window._pyforest_update_imports_cell('import pandas as pd'); }\n",
       "    "
      ],
      "text/plain": [
       "<IPython.core.display.Javascript object>"
      ]
     },
     "metadata": {},
     "output_type": "display_data"
    },
    {
     "name": "stdout",
     "output_type": "stream",
     "text": [
      "The autoreload extension is already loaded. To reload it, use:\n",
      "  %reload_ext autoreload\n"
     ]
    }
   ],
   "source": [
    "# Add any packages you need here\n",
    "import pyforest\n",
    "import copy\n",
    "import string\n",
    "import missingno as msno\n",
    "import requests\n",
    "import zipfile\n",
    "import os\n",
    "\n",
    "import warnings\n",
    "warnings.filterwarnings(\"ignore\")\n",
    "\n",
    "# pd.set_option(\"display.max_rows\", None)\n",
    "pd.set_option(\"display.max_columns\", None)\n",
    "pd.set_option(\"display.max_colwidth\", None)\n",
    "pd.set_option(\"display.float_format\", lambda x: \"%.2f\" %x) # suppress scientific notation\n",
    "\n",
    "# This can help to autoreload the packages you create\n",
    "%load_ext autoreload\n",
    "%autoreload 2"
   ]
  },
  {
   "cell_type": "markdown",
   "id": "db8b2181-7fe8-4a8c-9fc6-5404c564fe6c",
   "metadata": {},
   "source": [
    "<div class=\"alert alert-block alert-success\">\n",
    "<h4> <b> 1. Project Folder Setup <b></h4>\n",
    "<div>"
   ]
  },
  {
   "cell_type": "markdown",
   "id": "9b45a81d-aaca-4c5e-af2d-f6c5e94d8200",
   "metadata": {},
   "source": [
    "#### a) `Raw Data`"
   ]
  },
  {
   "cell_type": "markdown",
   "id": "f3ce135a-e8ae-4aa1-b95e-892969d0a6df",
   "metadata": {},
   "source": [
    "🎁 We give you the pseudo-code below 👇 for this first operation:\n",
    "\n",
    "> 1. Check if in the project folder, there is already a `Raw Data` folder\n",
    "2. If True, set your default directory to the `Raw Data` folder\n",
    "3. If not, create a `Raw Data` folder in the project folder, and print \"Raw data folder created\"\n",
    "\n",
    "<details>\n",
    "    <summary>💡Hint for functions you may need</summary>\n",
    "\n",
    "- if-else, \n",
    "- os.path.join()    \n",
    "- os.getcwd()    \n",
    "- os.mkdir()\n",
    "\n",
    "</details>"
   ]
  },
  {
   "cell_type": "code",
   "execution_count": 8,
   "id": "c1bece3b-446f-4abe-85a3-794f062aa814",
   "metadata": {},
   "outputs": [
    {
     "name": "stdout",
     "output_type": "stream",
     "text": [
      "Raw Data folder created\n"
     ]
    }
   ],
   "source": [
    "# Create/change data import file path - write your code here\n",
    "if os.path.exists(\"Raw Data\"):\n",
    "    import_file_path = os.path.join(os.getcwd(), \"Raw Data\")\n",
    "    print(\"Import file path is:\", import_file_path)\n",
    "else: \n",
    "    os.mkdir(\"Raw Data\")\n",
    "    print(\"Raw Data folder created\")"
   ]
  },
  {
   "cell_type": "markdown",
   "id": "97fe2788-1d3d-4a7f-90b4-97b49b2415da",
   "metadata": {},
   "source": [
    "#### b) `Result Data`"
   ]
  },
  {
   "cell_type": "markdown",
   "id": "253dbbb5-a513-4603-8241-28028146d542",
   "metadata": {},
   "source": [
    "🎁 We give you the pseudo-code below 👇 for this operation:\n",
    "\n",
    "> 1. Check if in the project folder, there is already a `Result` folder\n",
    "2. If True, set your default directory to the `Result` folder\n",
    "3. If not, create a `Result` folder in the project folder, and print \"Raw data folder created\""
   ]
  },
  {
   "cell_type": "code",
   "execution_count": 10,
   "id": "1d422d04-ae62-4f00-b5f2-7df4afca3d85",
   "metadata": {},
   "outputs": [
    {
     "name": "stdout",
     "output_type": "stream",
     "text": [
      "Result folder created\n"
     ]
    }
   ],
   "source": [
    "# Create/change result export file path - write your code here\n",
    "if os.path.exists(\"Result\"):\n",
    "    result_file_path = os.path.join(os.getcwd(), \"Result\")\n",
    "    print(\"Result file path is:\", result_file_path)\n",
    "else: \n",
    "    os.mkdir(\"Result\")\n",
    "    print(\"Result folder created\")"
   ]
  },
  {
   "cell_type": "markdown",
   "id": "20d979f2-ee66-4bdb-aeb2-489231b079cc",
   "metadata": {},
   "source": [
    "<div class=\"alert alert-block alert-success\">\n",
    "<h4> <b>2. Code download_data.py <b></h4>\n",
    "<div>"
   ]
  },
  {
   "cell_type": "markdown",
   "id": "35d8a161-e1b7-4ca7-9436-48694c0fadb6",
   "metadata": {},
   "source": [
    "#### a) `fetch_zip_file` function"
   ]
  },
  {
   "cell_type": "markdown",
   "id": "0c47d5e1-5d83-4ad4-b8b3-cdfc684f8c77",
   "metadata": {
    "tags": []
   },
   "source": [
    "👉 Our goal is to create a function called `fetch_zip_file` that can download data with url automatically, here is what you can do:\n",
    "\n",
    "> 1. Use requests.get to download data from url(\"https://github.com/CapitalOneRecruiting/DA-Airline-Data-Challenge/raw/main/data.zip\")\n",
    "2. Save the extracted zip file with the name `data.zip` in the `Raw Data` folder \n",
    "3. Make sure the status code is 200, otherwise print (\"ZIP file request failed!)\n",
    "\n",
    "<details>\n",
    "    <summary>💡Hint for functions you may need</summary>\n",
    "\n",
    "- requests.get() \n",
    "- open\n",
    "- write\n",
    "\n",
    "</details>"
   ]
  },
  {
   "cell_type": "code",
   "execution_count": 9,
   "id": "857a4103-fa24-4ff8-99bf-52a6af7c749a",
   "metadata": {},
   "outputs": [],
   "source": [
    "# Create fetch_zip_file function - write your code here\n",
    "def fetch_zip_file():\n",
    "    \"\"\"\n",
    "    Download, unzip and extract files with url\n",
    "    \"\"\"\n",
    "    # Try to acquire the zip file\n",
    "    try:\n",
    "        response = requests.get(url)\n",
    "    except OSError:\n",
    "        print(\"Connection Failed!\")\n",
    "        return None\n",
    "\n",
    "    # Check if the request works\n",
    "    if response.status_code == 200:\n",
    "        # Save dataset to file\n",
    "        print(\"File request successfully\")\n",
    "        open(\"Raw Data/data.zip\", \"wb\").write(response.content)\n",
    "    else:\n",
    "        print(\"ZIP file request failed!\")\n",
    "        return None"
   ]
  },
  {
   "cell_type": "markdown",
   "id": "0c9e0f01-f39a-4a58-90d7-1090c24db47a",
   "metadata": {},
   "source": [
    "#### b) `main` function"
   ]
  },
  {
   "cell_type": "markdown",
   "id": "e9bf2ab0-f1d4-4a31-b24a-40213b2f65aa",
   "metadata": {},
   "source": [
    "👉 Our goal is to create a function called `main` to execute `fetch_zip_file()`, unzip the data and delete the .zip file once the extraction is ready, here is what you can do:\n",
    "\n",
    "> 1. Run `fetch_zip_file()` that requests `data.zip` from url and save the zip file in the `Raw Data` folder\n",
    "2. Unzip the file (you can use zipfile.Zipfile and extractall function to achieve this)\n",
    "3. Delete the `data.zip` file once you make sure the data is succesfully unzipped\n",
    "\n",
    "<details>\n",
    "    <summary>💡Hint for functions you may need</summary>\n",
    "\n",
    "- zipfile.Zipfile()\n",
    "- os.remove()\n",
    "\n",
    "</details>"
   ]
  },
  {
   "cell_type": "code",
   "execution_count": 10,
   "id": "ba808276-a863-4db7-92c4-e9691dc3c101",
   "metadata": {},
   "outputs": [],
   "source": [
    "# Create main function - write your code here\n",
    "def main():\n",
    "    # Get the ZIP file\n",
    "    fetch_zip_file()\n",
    "\n",
    "    # Unzip\n",
    "    with zipfile.ZipFile(\"Raw Data/data.zip\", \"r\") as zip_ref:\n",
    "        zip_ref.extractall(\"Raw Data\")\n",
    "\n",
    "    # Delete zip file\n",
    "    if len(os.listdir(\"Raw Data\")) > 0:\n",
    "        os.remove(\"Raw Data/data.zip\")\n",
    "    else:\n",
    "        pass"
   ]
  },
  {
   "cell_type": "markdown",
   "id": "93abffb4-3fd2-441b-9255-f57c4cfd3906",
   "metadata": {},
   "source": [
    "#### c) Test your functions "
   ]
  },
  {
   "cell_type": "code",
   "execution_count": null,
   "id": "3f7efd18-c83d-4474-9bb4-6895fffcfa2c",
   "metadata": {
    "tags": []
   },
   "outputs": [],
   "source": [
    "# Test your main function here with the following code\n",
    "url = \"https://github.com/CapitalOneRecruiting/DA-Airline-Data-Challenge/raw/main/data.zip\"\n",
    "\n",
    "main()"
   ]
  },
  {
   "cell_type": "markdown",
   "id": "f6ddcb04-3c1e-43a4-994e-05269aec6e78",
   "metadata": {},
   "source": [
    "<div class=\"alert alert-block alert-success\">\n",
    "<h4> <b>3. Build & Test download_data.py <b></h4>\n",
    "<div>"
   ]
  },
  {
   "cell_type": "markdown",
   "id": "44115eda-bbe3-4f8f-b06e-f6e798b6bc97",
   "metadata": {},
   "source": [
    "👉 Convert your jupyter notebook code into a .py file for later usage, I'll teach you how to implement and test it"
   ]
  },
  {
   "cell_type": "code",
   "execution_count": 13,
   "id": "0498c095-6eeb-48bf-89ce-eb9bbc1ad3f9",
   "metadata": {
    "tags": []
   },
   "outputs": [
    {
     "name": "stdout",
     "output_type": "stream",
     "text": [
      "File request successfully\n",
      "Wall time: 44.8 s\n"
     ]
    }
   ],
   "source": [
    "%%time\n",
    "# Test the download_data.py module - write your code here\n",
    "from Airport import download_data\n",
    "\n",
    "download_data.main()"
   ]
  },
  {
   "cell_type": "markdown",
   "id": "14f96353-282d-4967-a275-a226a55ec0f5",
   "metadata": {},
   "source": [
    "🏁 Congratulations! \n",
    "\n",
    "💾 Save your notebook before starting the next challenge."
   ]
  }
 ],
 "metadata": {
  "kernelspec": {
   "display_name": "Python 3 (ipykernel)",
   "language": "python",
   "name": "python3"
  },
  "language_info": {
   "codemirror_mode": {
    "name": "ipython",
    "version": 3
   },
   "file_extension": ".py",
   "mimetype": "text/x-python",
   "name": "python",
   "nbconvert_exporter": "python",
   "pygments_lexer": "ipython3",
   "version": "3.9.13"
  },
  "vscode": {
   "interpreter": {
    "hash": "a592bfa39f29f5170e2bf28c11de14617541821277cd261b2dd04d708fcbf992"
   }
  }
 },
 "nbformat": 4,
 "nbformat_minor": 5
}
